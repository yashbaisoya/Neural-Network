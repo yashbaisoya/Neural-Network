{
 "cells": [
  {
   "cell_type": "code",
   "execution_count": 1,
   "id": "631e93bc",
   "metadata": {},
   "outputs": [
    {
     "name": "stdout",
     "output_type": "stream",
     "text": [
      "enter a number between 0 and 10.6\n",
      "Perceptron Classification :1\n"
     ]
    }
   ],
   "source": [
    "import numpy as np\n",
    "def step_function(x):\n",
    "    return 1 if x >= 0.5 else 0\n",
    "\n",
    "class Perceptron:\n",
    "    def __init__(self,learning_rate=0.5,epochs=10):\n",
    "        self.weights=np.random.rand()\n",
    "        self.epochs=epochs\n",
    "        self.bias=np.random.rand()\n",
    "        self.learning_rate=learning_rate\n",
    "        \n",
    "    def predict(self,x):\n",
    "        linear_output=np.dot(x,self.weights)+self.bias\n",
    "        return step_function(linear_output)\n",
    "    \n",
    "    def train(self,X,y):\n",
    "        for epoch in range(self.epochs):\n",
    "            for i in range(len(X)):\n",
    "                prediction=self.predict(X[i])\n",
    "                error=y[i]-prediction\n",
    "                \n",
    "                self.weights += self.learning_rate*error*X[i]\n",
    "                self.bias += self.learning_rate*error\n",
    "                \n",
    "X=np.array([0.3,0.4,0.6,0.7])\n",
    "y=np.array([0,0,1,1])\n",
    "\n",
    "perceptron=Perceptron()\n",
    "perceptron.train(X,y)\n",
    "\n",
    "def user_input_classification():\n",
    "    user_input=float(input(\"enter a number between 0 and 1\"))\n",
    "    if 0 <= user_input <= 1:\n",
    "        \n",
    "        prediction=perceptron.predict(user_input)\n",
    "        print(f\"Perceptron Classification :{prediction}\")\n",
    "    else:\n",
    "        print(\"Enter a valid number\")\n",
    "        \n",
    "user_input_classification()"
   ]
  },
  {
   "cell_type": "code",
   "execution_count": 2,
   "id": "b719e2bf",
   "metadata": {},
   "outputs": [
    {
     "name": "stdout",
     "output_type": "stream",
     "text": [
      "Input: [0 0], Prediction: 0\n",
      "Input: [0 1], Prediction: 0\n",
      "Input: [1 0], Prediction: 0\n",
      "Input: [1 1], Prediction: 1\n"
     ]
    }
   ],
   "source": [
    "import numpy as np\n",
    "\n",
    "class Perceptron:\n",
    "    def __init__(self, learning_rate=0.1, epochs=100):\n",
    "        self.weights = np.random.rand(2)  # Randomly initialize weights for two inputs\n",
    "        self.bias = np.random.rand(1)[0]  # Randomly initialize bias\n",
    "        self.learning_rate = learning_rate\n",
    "        self.epochs = epochs\n",
    "\n",
    "    def step_function(self, x):\n",
    "        return 1 if x >= 0 else 0\n",
    "\n",
    "    def predict(self, inputs):\n",
    "        linear_output = np.dot(inputs, self.weights) + self.bias\n",
    "        return self.step_function(linear_output)\n",
    "\n",
    "    def train(self, X, y):\n",
    "        for epoch in range(self.epochs):\n",
    "            for inputs, target in zip(X, y):\n",
    "                prediction = self.predict(inputs)\n",
    "                error = target - prediction\n",
    "                # Update weights and bias\n",
    "                self.weights += self.learning_rate * error * inputs\n",
    "                self.bias += self.learning_rate * error\n",
    "\n",
    "# Training dataset for (inputs, target)\n",
    "X = np.array([[0, 0], [0, 1], [1, 0], [1, 1]])\n",
    "y = np.array([0, 0, 0, 1])  # Target output (AND gate behavior)\n",
    "\n",
    "# Initialize and train the perceptron\n",
    "perceptron = Perceptron(learning_rate=0.1, epochs=100)\n",
    "perceptron.train(X, y)\n",
    "\n",
    "# Test the perceptron\n",
    "for inputs in X:\n",
    "    print(f\"Input: {inputs}, Prediction: {perceptron.predict(inputs)}\")"
   ]
  },
  {
   "cell_type": "code",
   "execution_count": null,
   "id": "845313f5",
   "metadata": {},
   "outputs": [],
   "source": []
  }
 ],
 "metadata": {
  "kernelspec": {
   "display_name": "Python 3 (ipykernel)",
   "language": "python",
   "name": "python3"
  },
  "language_info": {
   "codemirror_mode": {
    "name": "ipython",
    "version": 3
   },
   "file_extension": ".py",
   "mimetype": "text/x-python",
   "name": "python",
   "nbconvert_exporter": "python",
   "pygments_lexer": "ipython3",
   "version": "3.11.4"
  }
 },
 "nbformat": 4,
 "nbformat_minor": 5
}
